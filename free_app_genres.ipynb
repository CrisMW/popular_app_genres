{
 "cells": [
  {
   "cell_type": "markdown",
   "metadata": {},
   "source": [
    "# Popular app genres on Android and iOS\n",
    "## Identifying profitable genres to guide future development of free apps relying on ad revenue"
   ]
  },
  {
   "cell_type": "markdown",
   "metadata": {},
   "source": [
    "We are data analysts at a company that builds free apps and generates revenue through ads. We have been asked to provide some guidance on the genre of apps that is most popular with users, and therefore most promising.  \n",
    "\n",
    "The aim of this project is to determine which genres of free apps attract many users per app. For this analysis, a sample of 10,000 Android apps and 7,000 iOS apps will be considered. Other operating systems were excluded, as Android and iOS cover the majority of the mobile app market. "
   ]
  },
  {
   "cell_type": "code",
   "execution_count": 1,
   "metadata": {},
   "outputs": [],
   "source": [
    "# Importing the data as list of lists from CSV\n",
    "\n",
    "def easy_import(file_name):\n",
    "    from csv import reader\n",
    "    opened_file = open(file_name, encoding=\"utf8\")\n",
    "    read_file = reader(opened_file)\n",
    "    output = list(read_file)\n",
    "    return output\n",
    "\n",
    "ios_data = easy_import('data/AppleStore.csv')\n",
    "android_data = easy_import('data/googleplaystore.csv')"
   ]
  },
  {
   "cell_type": "code",
   "execution_count": 2,
   "metadata": {},
   "outputs": [
    {
     "name": "stdout",
     "output_type": "stream",
     "text": [
      "['App', 'Category', 'Rating', 'Reviews', 'Size', 'Installs', 'Type', 'Price', 'Content Rating', 'Genres', 'Last Updated', 'Current Ver', 'Android Ver']\n",
      "\n",
      "\n",
      "['Photo Editor & Candy Camera & Grid & ScrapBook', 'ART_AND_DESIGN', '4.1', '159', '19M', '10,000+', 'Free', '0', 'Everyone', 'Art & Design', 'January 7, 2018', '1.0.0', '4.0.3 and up']\n",
      "\n",
      "\n",
      "['Coloring book moana', 'ART_AND_DESIGN', '3.9', '967', '14M', '500,000+', 'Free', '0', 'Everyone', 'Art & Design;Pretend Play', 'January 15, 2018', '2.0.0', '4.0.3 and up']\n",
      "\n",
      "\n"
     ]
    }
   ],
   "source": [
    "# Examining structure of the lists. To make this easier, a function \n",
    "# that extracts and neatly prints specified rows is defined below.\n",
    "\n",
    "def explore_data(dataset, start, end, rows_and_columns=False):\n",
    "    dataset_slice = dataset[start:end]    \n",
    "    for row in dataset_slice:\n",
    "        print(row)\n",
    "        print('\\n') # adds a new (empty) line after each row\n",
    "\n",
    "    if rows_and_columns:\n",
    "        print('Number of rows:', len(dataset))\n",
    "        print('Number of columns:', len(dataset[0]))\n",
    "        \n",
    "explore_data(android_data, 0, 3)"
   ]
  },
  {
   "cell_type": "code",
   "execution_count": 3,
   "metadata": {},
   "outputs": [
    {
     "name": "stdout",
     "output_type": "stream",
     "text": [
      "['id', 'track_name', 'size_bytes', 'currency', 'price', 'rating_count_tot', 'rating_count_ver', 'user_rating', 'user_rating_ver', 'ver', 'cont_rating', 'prime_genre', 'sup_devices.num', 'ipadSc_urls.num', 'lang.num', 'vpp_lic']\n",
      "\n",
      "\n",
      "['284882215', 'Facebook', '389879808', 'USD', '0.0', '2974676', '212', '3.5', '3.5', '95.0', '4+', 'Social Networking', '37', '1', '29', '1']\n",
      "\n",
      "\n",
      "['389801252', 'Instagram', '113954816', 'USD', '0.0', '2161558', '1289', '4.5', '4.0', '10.23', '12+', 'Photo & Video', '37', '0', '29', '1']\n",
      "\n",
      "\n"
     ]
    }
   ],
   "source": [
    "explore_data(ios_data, 0, 3)"
   ]
  },
  {
   "cell_type": "markdown",
   "metadata": {},
   "source": [
    "To find out which genre of free apps attracts the most users, the <i>Category</i>, <i>Installs</i> and <i>Price</i> columns of the Google Play Store dataset will be used. For the iOS dataset, the <i>Price</i>, and <i>Prime_Genre</i> columns will be used. Since the iOS dataset does not have a direct measure of installs, the <i>Rating_Count_Tot</i> column will be used as an approximation."
   ]
  },
  {
   "cell_type": "markdown",
   "metadata": {},
   "source": [
    "## Data cleaning "
   ]
  },
  {
   "cell_type": "markdown",
   "metadata": {},
   "source": [
    "### Data cleaing - amending an incorrect entry documented in a discussion forum"
   ]
  },
  {
   "cell_type": "markdown",
   "metadata": {},
   "source": [
    "I looked into the discussion forum ([link](https://www.kaggle.com/lava18/google-play-store-apps/discussion)) for the Android dataset and found a wrong entry that has to be deleted."
   ]
  },
  {
   "cell_type": "code",
   "execution_count": 4,
   "metadata": {},
   "outputs": [
    {
     "name": "stdout",
     "output_type": "stream",
     "text": [
      "['Life Made WI-Fi Touchscreen Photo Frame', '1.9', '19', '3.0M', '1,000+', 'Free', '0', 'Everyone', '', 'February 11, 2018', '1.0.19', '4.0 and up']\n"
     ]
    }
   ],
   "source": [
    "print(android_data[10473])\n",
    "del(android_data[10473])"
   ]
  },
  {
   "cell_type": "markdown",
   "metadata": {},
   "source": [
    "### Data cleaning - checking for duplicates"
   ]
  },
  {
   "cell_type": "code",
   "execution_count": 5,
   "metadata": {},
   "outputs": [
    {
     "name": "stdout",
     "output_type": "stream",
     "text": [
      "['Quick PDF Scanner + OCR FREE', 'Box', 'Google My Business', 'ZOOM Cloud Meetings', 'join.me - Simple Meetings']\n",
      "\n",
      "\n",
      "Total number of android apps: 10841\n",
      "Number of duplicate android apps: 1181\n"
     ]
    }
   ],
   "source": [
    "# Defining a function that does this for us by looping through the data \n",
    "# and comparing each app name to all previously found names. \n",
    "\n",
    "def duplicates(dataset, name_index):\n",
    "    all_apps = []\n",
    "    duplicate_apps = []\n",
    "    for entry in dataset[1:]:\n",
    "        if entry[name_index] in all_apps:\n",
    "            duplicate_apps.append(entry[name_index])\n",
    "        else: \n",
    "            all_apps.append(entry[name_index])\n",
    "    return duplicate_apps\n",
    "\n",
    "# Checking for duplicates in the Android dataset \n",
    "\n",
    "android_duplicates = duplicates(android_data, 0)\n",
    "print(android_duplicates[:5])\n",
    "print('\\n')\n",
    "print('Total number of android apps: ' + str(len(android_data)))\n",
    "print('Number of duplicate android apps: ' + str(len(android_duplicates)))"
   ]
  },
  {
   "cell_type": "code",
   "execution_count": 6,
   "metadata": {},
   "outputs": [
    {
     "name": "stdout",
     "output_type": "stream",
     "text": [
      "['Mannequin Challenge', 'VR Roller Coaster']\n",
      "\n",
      "\n",
      "Number of duplicate iOS apps: 2\n"
     ]
    }
   ],
   "source": [
    "# Checking for duplicates in the iOS dataset\n",
    "\n",
    "ios_duplicates = duplicates(ios_data, 1)\n",
    "print(ios_duplicates[:5])   \n",
    "print('\\n')\n",
    "print('Number of duplicate iOS apps: ' + str(len(ios_duplicates)))"
   ]
  },
  {
   "cell_type": "markdown",
   "metadata": {},
   "source": [
    "There are 1181 duplicate Android, and only 2 duplicate iOS apps. Further research shows that duplicate entries in the  App Store data are different apps with the same name.\n",
    "Duplicate entries for Android apps, however, are actually the same app, but with data taken at different time points. We will use the number of reviews as a proxy for the time point. For each app, we will retain only the entry with the highest number of reviews."
   ]
  },
  {
   "cell_type": "code",
   "execution_count": 7,
   "metadata": {},
   "outputs": [
    {
     "data": {
      "text/plain": [
       "9659"
      ]
     },
     "execution_count": 7,
     "metadata": {},
     "output_type": "execute_result"
    }
   ],
   "source": [
    "# Finding the highest number of reviews for all apps.\n",
    "# This info will be stored in a dictionary.\n",
    "\n",
    "reviews_max = {}\n",
    "for entry in android_data[1:]:\n",
    "    name = entry[0]\n",
    "    n_reviews = float(entry[3])\n",
    "    if name in reviews_max and reviews_max[name] < n_reviews:\n",
    "        reviews_max[name] = n_reviews\n",
    "    if name not in reviews_max:\n",
    "        reviews_max[name] = n_reviews\n",
    "\n",
    "len(reviews_max)"
   ]
  },
  {
   "cell_type": "code",
   "execution_count": 8,
   "metadata": {},
   "outputs": [
    {
     "data": {
      "text/plain": [
       "9659"
      ]
     },
     "execution_count": 8,
     "metadata": {},
     "output_type": "execute_result"
    }
   ],
   "source": [
    "# Comparing the number of reviews for each entry (i.e. each app) to the max recorded\n",
    "# in the reviews_max dictionary. If it matches, the entry will be added to\n",
    "# the android_clean list of lists. This way duplicated are removed by adding only\n",
    "# the entry which has the higher number of reviews.\n",
    "\n",
    "android_clean = []\n",
    "added = []\n",
    "\n",
    "for entry in android_data[1:]:\n",
    "    name = entry[0]\n",
    "    n_reviews = float(entry[3])\n",
    "    if n_reviews == reviews_max[name] and name not in added:\n",
    "        android_clean.append(entry)\n",
    "        added.append(name)\n",
    "\n",
    "len(android_clean)"
   ]
  },
  {
   "cell_type": "markdown",
   "metadata": {},
   "source": [
    "The 1181 duplicate Android apps were removed succesfully."
   ]
  },
  {
   "cell_type": "markdown",
   "metadata": {},
   "source": [
    "### Data cleaning - Removing non-English apps using the ASCII numbering system range as a filter"
   ]
  },
  {
   "cell_type": "markdown",
   "metadata": {},
   "source": [
    "Examining the datasets shows that a large number of apps are non-English. As our company produces only apps in English, apps targeting non-English speakers should not form part of our analysis. Unfortunately, no language information is recorded in the datasets, but English apps usually don't use characters whose ASCII number is above 127. Therefore, apps with 3 or more characters above 127 will be removed from the datasets."
   ]
  },
  {
   "cell_type": "code",
   "execution_count": 9,
   "metadata": {},
   "outputs": [],
   "source": [
    "# Defining a function that loops through all characters in a string\n",
    "# and checks whether more than 2 have ASCII numbers above 127.\n",
    "\n",
    "def is_english(string):\n",
    "    counter = 0\n",
    "    for char in string:\n",
    "        if ord(char) > 127:\n",
    "            counter += 1\n",
    "    if counter > 3:\n",
    "        return False\n",
    "    else:\n",
    "        return True"
   ]
  },
  {
   "cell_type": "code",
   "execution_count": 10,
   "metadata": {},
   "outputs": [
    {
     "name": "stdout",
     "output_type": "stream",
     "text": [
      "True\n",
      "True\n",
      "True\n",
      "False\n"
     ]
    }
   ],
   "source": [
    "# Testing is_english function on selected strings. \n",
    "\n",
    "print(is_english('Instragram'))\n",
    "print(is_english('Docs To Go™ Free Office Suite'))\n",
    "print(is_english('Instachat 😜'))\n",
    "print(is_english('爱奇艺PPS -《欢乐颂2》电视剧热播'))"
   ]
  },
  {
   "cell_type": "markdown",
   "metadata": {},
   "source": [
    "The function defined above appears to work well, so I will now use it on the datasets."
   ]
  },
  {
   "cell_type": "code",
   "execution_count": 11,
   "metadata": {},
   "outputs": [],
   "source": [
    "# Defining a helper function that applies is_english to each entry in the dataset.\n",
    "\n",
    "def remove_non_english(dataset, name_index):\n",
    "    dataset_filtered = []\n",
    "    for entry in dataset:\n",
    "        name = entry[name_index]\n",
    "        if is_english(name) == True:\n",
    "            dataset_filtered.append(entry)\n",
    "    return dataset_filtered"
   ]
  },
  {
   "cell_type": "code",
   "execution_count": 12,
   "metadata": {},
   "outputs": [
    {
     "name": "stdout",
     "output_type": "stream",
     "text": [
      "['Photo Editor & Candy Camera & Grid & ScrapBook', 'ART_AND_DESIGN', '4.1', '159', '19M', '10,000+', 'Free', '0', 'Everyone', 'Art & Design', 'January 7, 2018', '1.0.0', '4.0.3 and up']\n",
      "\n",
      "\n",
      "['U Launcher Lite – FREE Live Cool Themes, Hide Apps', 'ART_AND_DESIGN', '4.7', '87510', '8.7M', '5,000,000+', 'Free', '0', 'Everyone', 'Art & Design', 'August 1, 2018', '1.2.4', '4.0.3 and up']\n",
      "\n",
      "\n",
      "['Sketch - Draw & Paint', 'ART_AND_DESIGN', '4.5', '215644', '25M', '50,000,000+', 'Free', '0', 'Teen', 'Art & Design', 'June 8, 2018', 'Varies with device', '4.2 and up']\n",
      "\n",
      "\n",
      "9614\n"
     ]
    }
   ],
   "source": [
    "# Removing non-English Android apps. \n",
    "\n",
    "android_english = remove_non_english(android_clean, 0)\n",
    "explore_data(android_english, 0, 3)\n",
    "print(len(android_english))"
   ]
  },
  {
   "cell_type": "code",
   "execution_count": 13,
   "metadata": {},
   "outputs": [
    {
     "name": "stdout",
     "output_type": "stream",
     "text": [
      "['id', 'track_name', 'size_bytes', 'currency', 'price', 'rating_count_tot', 'rating_count_ver', 'user_rating', 'user_rating_ver', 'ver', 'cont_rating', 'prime_genre', 'sup_devices.num', 'ipadSc_urls.num', 'lang.num', 'vpp_lic']\n",
      "\n",
      "\n",
      "['284882215', 'Facebook', '389879808', 'USD', '0.0', '2974676', '212', '3.5', '3.5', '95.0', '4+', 'Social Networking', '37', '1', '29', '1']\n",
      "\n",
      "\n",
      "['389801252', 'Instagram', '113954816', 'USD', '0.0', '2161558', '1289', '4.5', '4.0', '10.23', '12+', 'Photo & Video', '37', '0', '29', '1']\n",
      "\n",
      "\n",
      "6184\n"
     ]
    }
   ],
   "source": [
    "# Removing non-English iOS apps.\n",
    "\n",
    "ios_english = remove_non_english(ios_data, 1)\n",
    "explore_data(ios_english, 0, 3)\n",
    "print(len(ios_english))"
   ]
  },
  {
   "cell_type": "markdown",
   "metadata": {},
   "source": [
    "### Data cleaning - Isolating free apps"
   ]
  },
  {
   "cell_type": "markdown",
   "metadata": {},
   "source": [
    "The datasets contain both free and paid apps. We will use the Price columns in the Android and iOS datasets to isolate free apps."
   ]
  },
  {
   "cell_type": "code",
   "execution_count": 14,
   "metadata": {},
   "outputs": [],
   "source": [
    "# Isolating free Android apps\n",
    "\n",
    "android_free = []\n",
    "for entry in android_english:\n",
    "    if entry[6] == 'Free':\n",
    "        android_free.append(entry)"
   ]
  },
  {
   "cell_type": "code",
   "execution_count": 15,
   "metadata": {},
   "outputs": [
    {
     "name": "stdout",
     "output_type": "stream",
     "text": [
      "['Photo Editor & Candy Camera & Grid & ScrapBook', 'ART_AND_DESIGN', '4.1', '159', '19M', '10,000+', 'Free', '0', 'Everyone', 'Art & Design', 'January 7, 2018', '1.0.0', '4.0.3 and up']\n",
      "\n",
      "\n",
      "['U Launcher Lite – FREE Live Cool Themes, Hide Apps', 'ART_AND_DESIGN', '4.7', '87510', '8.7M', '5,000,000+', 'Free', '0', 'Everyone', 'Art & Design', 'August 1, 2018', '1.2.4', '4.0.3 and up']\n",
      "\n",
      "\n",
      "['Sketch - Draw & Paint', 'ART_AND_DESIGN', '4.5', '215644', '25M', '50,000,000+', 'Free', '0', 'Teen', 'Art & Design', 'June 8, 2018', 'Varies with device', '4.2 and up']\n",
      "\n",
      "\n",
      "Free Android apps: 8863\n"
     ]
    }
   ],
   "source": [
    "explore_data(android_free, 0, 3)\n",
    "print('Free Android apps: ' + str(len(android_free)))"
   ]
  },
  {
   "cell_type": "code",
   "execution_count": 16,
   "metadata": {},
   "outputs": [],
   "source": [
    "# Isolating free iOS apps\n",
    "\n",
    "ios_free = []\n",
    "for entry in ios_english[1:]:\n",
    "    if float(entry[4]) == 0.0:\n",
    "        ios_free.append(entry)"
   ]
  },
  {
   "cell_type": "code",
   "execution_count": 17,
   "metadata": {},
   "outputs": [
    {
     "name": "stdout",
     "output_type": "stream",
     "text": [
      "['284882215', 'Facebook', '389879808', 'USD', '0.0', '2974676', '212', '3.5', '3.5', '95.0', '4+', 'Social Networking', '37', '1', '29', '1']\n",
      "\n",
      "\n",
      "['389801252', 'Instagram', '113954816', 'USD', '0.0', '2161558', '1289', '4.5', '4.0', '10.23', '12+', 'Photo & Video', '37', '0', '29', '1']\n",
      "\n",
      "\n",
      "['529479190', 'Clash of Clans', '116476928', 'USD', '0.0', '2130805', '579', '4.5', '4.5', '9.24.12', '9+', 'Games', '38', '5', '18', '1']\n",
      "\n",
      "\n",
      "Free Android apps: 3222\n"
     ]
    }
   ],
   "source": [
    "explore_data(ios_free, 0, 3)\n",
    "print('Free Android apps: ' + str(len(ios_free)))"
   ]
  },
  {
   "cell_type": "markdown",
   "metadata": {},
   "source": [
    "## Analysis\n",
    "\n",
    "### What is the market share of each genre?\n",
    "\n",
    "After removing duplicate, paid and non-English apps, the datasets can now be analysed. To gain an understanding of the most popular genres in general, I will look at the 'market share' of each genre."
   ]
  },
  {
   "cell_type": "code",
   "execution_count": 18,
   "metadata": {},
   "outputs": [],
   "source": [
    "# Defining a function to extract the frequencies of each unique genre as a dictionary.\n",
    "\n",
    "def freq_table(dataset, index):\n",
    "    freq_table = {}\n",
    "    total = 0             # counting total no. of apps\n",
    "    for entry in dataset:\n",
    "        total += 1        # counting total no. of apps\n",
    "        genre = entry[index]\n",
    "        if genre in freq_table:\n",
    "            freq_table[genre] += 1   # counting occurence of genres\n",
    "        else:\n",
    "            freq_table[genre] = 1\n",
    "    for key in freq_table:\n",
    "        freq_table[key] /= total    # converting to proportion\n",
    "        freq_table[key] *= 100      # converting to %\n",
    "        freq_table[key] = round(freq_table[key], 2)       \n",
    "    return freq_table\n",
    "\n",
    "# Defining a function to apply freq_table to a dataset,\n",
    "# and then print the frequencies in descending order.\n",
    "\n",
    "def display_table(table):\n",
    "    table_display = []\n",
    "    for key in table:\n",
    "        key_val_as_tuple = (table[key], key)\n",
    "        table_display.append(key_val_as_tuple)\n",
    "\n",
    "    table_sorted = sorted(table_display, reverse = True)\n",
    "    for entry in table_sorted:\n",
    "        print(entry[1], ':', entry[0])"
   ]
  },
  {
   "cell_type": "code",
   "execution_count": 19,
   "metadata": {},
   "outputs": [
    {
     "name": "stdout",
     "output_type": "stream",
     "text": [
      "FAMILY : 18.9\n",
      "GAME : 9.73\n",
      "TOOLS : 8.46\n",
      "BUSINESS : 4.59\n",
      "LIFESTYLE : 3.9\n",
      "PRODUCTIVITY : 3.89\n",
      "FINANCE : 3.7\n",
      "MEDICAL : 3.53\n",
      "SPORTS : 3.4\n",
      "PERSONALIZATION : 3.32\n",
      "COMMUNICATION : 3.24\n",
      "HEALTH_AND_FITNESS : 3.08\n",
      "PHOTOGRAPHY : 2.94\n",
      "NEWS_AND_MAGAZINES : 2.8\n",
      "SOCIAL : 2.66\n",
      "TRAVEL_AND_LOCAL : 2.34\n",
      "SHOPPING : 2.25\n",
      "BOOKS_AND_REFERENCE : 2.14\n",
      "DATING : 1.86\n",
      "VIDEO_PLAYERS : 1.79\n",
      "MAPS_AND_NAVIGATION : 1.4\n",
      "FOOD_AND_DRINK : 1.24\n",
      "EDUCATION : 1.16\n",
      "ENTERTAINMENT : 0.96\n",
      "LIBRARIES_AND_DEMO : 0.94\n",
      "AUTO_AND_VEHICLES : 0.93\n",
      "HOUSE_AND_HOME : 0.82\n",
      "WEATHER : 0.8\n",
      "EVENTS : 0.71\n",
      "PARENTING : 0.65\n",
      "ART_AND_DESIGN : 0.64\n",
      "COMICS : 0.62\n",
      "BEAUTY : 0.6\n"
     ]
    }
   ],
   "source": [
    "# Displaying the frequencies of unique android app genres in %.\n",
    "\n",
    "android_freq = freq_table(android_free, 1)\n",
    "display_table(android_freq)"
   ]
  },
  {
   "cell_type": "code",
   "execution_count": 20,
   "metadata": {},
   "outputs": [
    {
     "name": "stdout",
     "output_type": "stream",
     "text": [
      "Games : 58.16\n",
      "Entertainment : 7.88\n",
      "Photo & Video : 4.97\n",
      "Education : 3.66\n",
      "Social Networking : 3.29\n",
      "Shopping : 2.61\n",
      "Utilities : 2.51\n",
      "Sports : 2.14\n",
      "Music : 2.05\n",
      "Health & Fitness : 2.02\n",
      "Productivity : 1.74\n",
      "Lifestyle : 1.58\n",
      "News : 1.33\n",
      "Travel : 1.24\n",
      "Finance : 1.12\n",
      "Weather : 0.87\n",
      "Food & Drink : 0.81\n",
      "Reference : 0.56\n",
      "Business : 0.53\n",
      "Book : 0.43\n",
      "Navigation : 0.19\n",
      "Medical : 0.19\n",
      "Catalogs : 0.12\n"
     ]
    }
   ],
   "source": [
    "# Displaying the frequencies of unique iOS app genres in %.\n",
    "\n",
    "ios_freq = freq_table(ios_free, -5)\n",
    "display_table(ios_freq)"
   ]
  },
  {
   "cell_type": "markdown",
   "metadata": {},
   "source": [
    "Several notable trends can be observed:\n",
    "- The App Store appears to be dominated by entertainment apps: The genre with the most apps is Games at 58 % of all apps, followed by Entertainment (7.88 %) and Photo & Video (4.97 %). \n",
    "- The Google Play store shows a more balanced distribution of genres, including both apps for entertainment and apps for productivity. The genre 'games', for example, only makes up (9.73 %) of all apps."
   ]
  },
  {
   "cell_type": "markdown",
   "metadata": {},
   "source": [
    "### What is average number of users per app for each genre?"
   ]
  },
  {
   "cell_type": "markdown",
   "metadata": {},
   "source": [
    "The frequencies with which genres are represented is not sufficient to determine what our product development should focus on. For example, a genre may make up a large portion of all available apps, but apps might still only attract few users per app. This would be less profitable than, for instance, a market with few apps attracting many users per app. Therefore, we will now look at users per app for the unique genres identified above. "
   ]
  },
  {
   "cell_type": "code",
   "execution_count": 21,
   "metadata": {},
   "outputs": [
    {
     "name": "stdout",
     "output_type": "stream",
     "text": [
      "COMMUNICATION : 38456119.0\n",
      "VIDEO_PLAYERS : 24727872.0\n",
      "SOCIAL : 23253652.0\n",
      "PHOTOGRAPHY : 17840110.0\n",
      "PRODUCTIVITY : 16787331.0\n",
      "GAME : 15588016.0\n",
      "TRAVEL_AND_LOCAL : 13984078.0\n",
      "ENTERTAINMENT : 11640706.0\n",
      "TOOLS : 10801391.0\n",
      "NEWS_AND_MAGAZINES : 9549178.0\n",
      "BOOKS_AND_REFERENCE : 8767812.0\n",
      "SHOPPING : 7036877.0\n",
      "PERSONALIZATION : 5201483.0\n",
      "WEATHER : 5074486.0\n",
      "HEALTH_AND_FITNESS : 4188822.0\n",
      "MAPS_AND_NAVIGATION : 4056942.0\n",
      "FAMILY : 3697848.0\n",
      "SPORTS : 3638640.0\n",
      "ART_AND_DESIGN : 1986335.0\n",
      "FOOD_AND_DRINK : 1924898.0\n",
      "EDUCATION : 1833495.0\n",
      "BUSINESS : 1712290.0\n",
      "LIFESTYLE : 1437816.0\n",
      "FINANCE : 1387692.0\n",
      "HOUSE_AND_HOME : 1331541.0\n",
      "DATING : 854029.0\n",
      "COMICS : 817657.0\n",
      "AUTO_AND_VEHICLES : 647318.0\n",
      "LIBRARIES_AND_DEMO : 638504.0\n",
      "PARENTING : 542604.0\n",
      "BEAUTY : 513152.0\n",
      "EVENTS : 253542.0\n",
      "MEDICAL : 120551.0\n"
     ]
    }
   ],
   "source": [
    "# Obtaining average no. of users per genre for Android apps \n",
    "\n",
    "avg_users_android = {}\n",
    "\n",
    "for category in android_freq:    # Looping through genres\n",
    "    total = 0                    # Counting total users for apps in genre\n",
    "    len_category = 0             # Counting no. of apps in genre\n",
    "    for entry in android_free:   # Looping through Android apps to obtain both users and apps per genre\n",
    "        category_app = entry[1]\n",
    "        if category_app == category:\n",
    "            installs_str = entry[5].replace('+', '')\n",
    "            installs_str = installs_str.replace(',', '')\n",
    "            installs_flt = float(installs_str)\n",
    "            total += installs_flt\n",
    "            len_category += 1\n",
    "    avg_per_category = total / len_category\n",
    "    avg_users_android[category] = round(avg_per_category, 0)\n",
    "    \n",
    "display_table(avg_users_android)"
   ]
  },
  {
   "cell_type": "markdown",
   "metadata": {},
   "source": [
    "This data shows that that the five Android app genres with the highest number of users per app:\n",
    "- Communication (38,000,000+)\n",
    "- Video Players (24,000,000+)\n",
    "- Social (23,000,000+)\n",
    "- Photography (17,000,000+)\n",
    "- Productivity (16,000,000+)"
   ]
  },
  {
   "cell_type": "code",
   "execution_count": 22,
   "metadata": {},
   "outputs": [
    {
     "name": "stdout",
     "output_type": "stream",
     "text": [
      "Navigation : 86090.0\n",
      "Reference : 74942.0\n",
      "Social Networking : 71548.0\n",
      "Music : 57327.0\n",
      "Weather : 52280.0\n",
      "Book : 39758.0\n",
      "Food & Drink : 33334.0\n",
      "Finance : 31468.0\n",
      "Photo & Video : 28442.0\n",
      "Travel : 28244.0\n",
      "Shopping : 26920.0\n",
      "Health & Fitness : 23298.0\n",
      "Sports : 23009.0\n",
      "Games : 22789.0\n",
      "News : 21248.0\n",
      "Productivity : 21028.0\n",
      "Utilities : 18684.0\n",
      "Lifestyle : 16486.0\n",
      "Entertainment : 14030.0\n",
      "Business : 7491.0\n",
      "Education : 7004.0\n",
      "Catalogs : 4004.0\n",
      "Medical : 612.0\n"
     ]
    }
   ],
   "source": [
    "# Obtaining average no. of users per genre for iOS apps \n",
    "\n",
    "avg_users_ios = {}\n",
    "\n",
    "for genre in ios_freq:           # Looping through genres\n",
    "    total = 0                    # Counting total users for apps in genre\n",
    "    len_genre = 0                # Counting no. of apps in genre\n",
    "    for entry in ios_free:       # Looping through iOS apps to obtain both users and apps per genre\n",
    "        genre_app = entry[-5]\n",
    "        if genre_app == genre:\n",
    "            installs = float(entry[5])\n",
    "            total += installs\n",
    "            len_genre += 1\n",
    "    avg_per_genre = total / len_genre\n",
    "    avg_users_ios[genre] = round(avg_per_genre, 0)\n",
    "\n",
    "display_table(avg_users_ios)"
   ]
  },
  {
   "cell_type": "markdown",
   "metadata": {
    "collapsed": true
   },
   "source": [
    "This data shows that that the five iOS app genres with the highest number of users per app:\n",
    "- Navigation (86,000+)\n",
    "- Reference (74,000+)\n",
    "- Social Networking (71,000+)\n",
    "- Music (57,000+)\n",
    "- Weather (52,000+)\n",
    "\n",
    "Intestetingly, the genre with the highest % of all apps (Games) has a rather low number of users per app on iOS. "
   ]
  },
  {
   "cell_type": "markdown",
   "metadata": {},
   "source": [
    "### Conclusions & recommendations"
   ]
  },
  {
   "cell_type": "markdown",
   "metadata": {},
   "source": [
    "Overall, average user per app numbers are much higher for Android apps compared to iOS apps. The top genres are also quite different between the two. This means that we will have to compromise when deciding what kinds of apps to develop.\n",
    "\n",
    "We can see that the genres 'Social'/'Social Networking' attract a large number of users per app on both Android and iOS. This genre is, however, heavily dominated by a few 'big players' and therefore unlikely to be profitable for the development of free, ad-revenue based apps. The same is true for other popular Android genres like 'Communication' or 'Video players', and for popular iOS genres like 'Navigation' or 'Music'.  \n",
    "\n",
    "The genre 'Productivity' ranks among the top 5 Android genres in terms of users per app and still attracts a reasonable number of users on iOS. The opposite is true for the genre 'Weather' which is in the top 5 on iOS and somewhere in the middle on Android. Therefore, I would recommend that we focus our app development on these two genres."
   ]
  }
 ],
 "metadata": {
  "kernelspec": {
   "display_name": "Python 3",
   "language": "python",
   "name": "python3"
  },
  "language_info": {
   "codemirror_mode": {
    "name": "ipython",
    "version": 3
   },
   "file_extension": ".py",
   "mimetype": "text/x-python",
   "name": "python",
   "nbconvert_exporter": "python",
   "pygments_lexer": "ipython3",
   "version": "3.7.6"
  }
 },
 "nbformat": 4,
 "nbformat_minor": 2
}
